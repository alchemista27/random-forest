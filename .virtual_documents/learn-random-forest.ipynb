# Import libraries
import pandas as pd
import numpy as np
import matplotlib.pyplot as plt
import seaborn as sns
from sklearn.impute import SimpleImputer
from sklearn.model_selection import train_test_split
from sklearn.preprocessing import StandardScaler
from sklearn.ensemble import RandomForestClassifier
from sklearn.metrics import accuracy_score, classification_report


# Load data
raw_data = pd.read_csv('Social_Network_Ads.csv')
raw_data.head(10)


# Describe Data
raw_data.describe()

# Check missing value
raw_data.isna().sum()


# Preprocess data
raw_data['log_salary'] = np.log(raw_data['EstimatedSalary'])
raw_data.head(10)

# Assign data to new variable
data = raw_data.loc[:,['Age', 'log_salary', 'Purchased']]
data.head(10)


# Assign data to variable X and y
X = data[['Age', 'log_salary']]
y = data[['Purchased']]


# Split data
X_train, X_test, y_train, y_test = train_test_split(X,y,
                                                   test_size=0.3, 
                                                   random_state=42)


# Fitting data
rf = RandomForestClassifier(n_estimators=150,
                           max_depth=5, min_samples_leaf=0.2)

rf.fit(X_train, y_train)


# make prediction
y_pred = rf.predict(X_test)


# Measure model qualification
accuracy = accuracy_score(y_test, y_pred)
print('Nilai akurasi model adalah:', accuracy)

report = classification_report(y_test, y_pred)
print(report)


new_data = pd.DataFrame({'Age':X_test['Age'],
                         'log_salary':X_test['log_salary'], 
                         'Purchased':np.array(y_test).reshape(-1), 
                         'Prediction':y_pred})

new_data.head(10)



